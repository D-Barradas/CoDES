{
 "cells": [
  {
   "cell_type": "code",
   "execution_count": 1,
   "metadata": {},
   "outputs": [
    {
     "data": {
      "text/plain": [
       "'use the ML_env to reproduce the results reported'"
      ]
     },
     "execution_count": 1,
     "metadata": {},
     "output_type": "execute_result"
    }
   ],
   "source": [
    "import pandas as pd\n",
    "import numpy as np\n",
    "import sys , os \n",
    "import seaborn as sns \n",
    "import sklearn as sk\n",
    "from sklearn.metrics import classification_report,matthews_corrcoef\n",
    "from sklearn.ensemble import RandomForestClassifier\n",
    "from sklearn.preprocessing import StandardScaler\n",
    "from sklearn.model_selection import train_test_split\n",
    "from sklearn.metrics import auc\n",
    "import matplotlib.pyplot as plt \n",
    "import seaborn as sns\n",
    "import pickle \n",
    "sns.set_style(style=\"whitegrid\")\n",
    "\n",
    "PDB_BM5 = [\n",
    "'1EXB','1JTD','1M27','1RKE','2A1A','2GAF','2GTP','2VXT','2W9E',\n",
    "'2X9A','2YVJ','3A4S','3AAA','BAAD','3AAD','3BIW','3BX7',\n",
    "'3DAW','3EO1','3EOA','3F1P','3FN1','3G6D','3H11',\n",
    "'3H2V','3HI6','3HMX','3K75','3L5W','3L89','3LVK','3MXW',\n",
    "'BP57','CP57','3P57','3PC8','3R9A','3RVW','3S9D','3SZK',\n",
    "'3V6Z','3VLB','4DN4','4FQI','4FZA','4G6J','4G6M','4GAM',\n",
    "'4GXU','4H03','4HX3','4IZ7','4JCV','4LW4','4M76'\n",
    "]\n",
    "\n",
    "\"\"\"use the ML_env to reproduce the results reported\"\"\""
   ]
  },
  {
   "cell_type": "code",
   "execution_count": 2,
   "metadata": {},
   "outputs": [
    {
     "name": "stdout",
     "output_type": "stream",
     "text": [
      "Numpy version:1.18.5\n",
      "Pandas version:1.2.1\n",
      "Sklearn version:0.23.2\n"
     ]
    }
   ],
   "source": [
    "print (f\"Numpy version:{np.__version__}\")\n",
    "print (f\"Pandas version:{pd.__version__}\")\n",
    "print (f\"Sklearn version:{sk.__version__}\")"
   ]
  },
  {
   "cell_type": "code",
   "execution_count": 3,
   "metadata": {},
   "outputs": [],
   "source": [
    "def load_data_sets():\n",
    "    all_balanced_data = pd.read_csv(\"../data/Clean_dataframe_balanced_all_data_ccharppi_4_march_2020_complete.csv\",dtype={'class_q': 'object'})\n",
    "    all_balanced_data.set_index('Conf',inplace=True)\n",
    "    all_balanced_data.loc[\"Z_1JTG_1136_M.pdb\",\"DDG_V\"]  = all_balanced_data[\"DDG_V\"].mean()\n",
    "    print (all_balanced_data.shape)\n",
    "    all_unbalanced_data = pd.read_csv(\"../data/Clean_dataframe_unbalanced_all_data_ccharppi_4_march_2020_complete.csv\",dtype={'class_q': 'object'})\n",
    "    all_unbalanced_data.set_index('Conf',inplace=True)\n",
    "    all_unbalanced_data.loc[\"Z_1JTG_1136_M.pdb\",\"DDG_V\"]  = all_balanced_data[\"DDG_V\"].mean()\n",
    "\n",
    "\n",
    "    Scorers_balanced_data = pd.read_csv(\"../data/Clean_dataframe_balanced_scorers_set.csv\")\n",
    "    \n",
    "    print (Scorers_balanced_data.shape)\n",
    "\n",
    "\n",
    "    Scorers_balanced_data.set_index('Conf',inplace=True)\n",
    "    Scorers_balanced_data.dropna(inplace=True)\n",
    "\n",
    "    Scorers_unbalanced_data = pd.read_csv(\"../data/Clean_dataframe_unbalanced_scorers_set.csv\")\n",
    "\n",
    "\n",
    "    Scorers_unbalanced_data.set_index('Conf',inplace=True)\n",
    "    Scorers_unbalanced_data.dropna(inplace=True)\n",
    "\n",
    "    X_train = all_balanced_data[~all_balanced_data[\"idx\"].isin(PDB_BM5) ]\n",
    "    y_train = all_balanced_data[~all_balanced_data[\"idx\"].isin(PDB_BM5) ][\"label_binary\"].astype('bool')\n",
    "\n",
    "    \n",
    "    X_val = all_balanced_data[all_balanced_data[\"idx\"].isin(PDB_BM5) ]\n",
    "    y_val = all_balanced_data[all_balanced_data[\"idx\"].isin(PDB_BM5) ][\"label_binary\"].astype('bool')\n",
    "    #         print (X_test.size,y_test.size)\n",
    "       \n",
    "    X_val_u = all_unbalanced_data[all_unbalanced_data[\"idx\"].isin(PDB_BM5) ]\n",
    "    y_val_u = all_unbalanced_data[all_unbalanced_data[\"idx\"].isin(PDB_BM5) ][\"label_binary\"].astype('bool')\n",
    "    \n",
    "    X_test = Scorers_balanced_data\n",
    "    y_test = Scorers_balanced_data[\"binary_label\"].astype('bool')\n",
    "    \n",
    "    X_test_u = Scorers_unbalanced_data\n",
    "    y_test_u = Scorers_unbalanced_data[\"binary_label\"].astype('bool')\n",
    "    \n",
    "    X_test_u.rename(columns={'NIS Polar' :'Nis_Polar',\n",
    "                                  'Nis Apolar':'Nis_Apolar',\n",
    "                                  'BSA Apolar':'BSA_Apolar',\n",
    "                                  'BSA Polar' :'BSA_Polar',\n",
    "                                'binary_label':'label_binary'\n",
    "                            },inplace=True)\n",
    "    X_test.rename(columns={'NIS Polar' :'Nis_Polar',\n",
    "                                  'Nis Apolar':'Nis_Apolar',\n",
    "                                  'BSA Apolar':'BSA_Apolar',\n",
    "                                  'BSA Polar' :'BSA_Polar',\n",
    "                                   'binary_label':'label_binary'\n",
    "                          },inplace=True)\n",
    "    \n",
    "\n",
    "    return X_train, y_train , X_val, y_val, X_test, y_test ,X_val_u, y_val_u, X_test_u, y_test_u "
   ]
  },
  {
   "cell_type": "code",
   "execution_count": 4,
   "metadata": {},
   "outputs": [
    {
     "name": "stdout",
     "output_type": "stream",
     "text": [
      "(73684, 161)\n",
      "(3990, 162)\n"
     ]
    }
   ],
   "source": [
    "X_train, y_train , X_val, y_val, X_test, y_test ,X_val_u, y_val_u, X_test_u, y_test_u  = load_data_sets()"
   ]
  },
  {
   "cell_type": "code",
   "execution_count": 5,
   "metadata": {},
   "outputs": [],
   "source": [
    "def scaling_data_selected(X_train,X_test,X_test_unbalanced):\n",
    "\n",
    "    scaler = StandardScaler()\n",
    "\n",
    "\n",
    "    selected_feat = ['CONSRANK_val','AP_GOAP_DF','CP_TD','CP_D1','CP_HLPL',\n",
    "                      'DDG_V','CP_MJ3h','PYDOCK_TOT','ELE','CP_SKOIP',\n",
    "                      'SIPPER','AP_DFIRE2','AP_dDFIRE','AP_PISA','CP_RMFCA',\n",
    "\n",
    "                     ]\n",
    "    \n",
    "    X_train = X_train[selected_feat]\n",
    "    X_test = X_test[selected_feat]\n",
    "    X_test_unbalanced= X_test_unbalanced[selected_feat]\n",
    "\n",
    "\n",
    "    scaler.fit(X_train)\n",
    "    \n",
    "    filename = '../models/scaler_CODES_BM4_selected_features.sav'\n",
    "    pickle.dump(scaler, open(filename, 'wb'))\n",
    "    \n",
    "    scaled_train = scaler.transform(X_train)\n",
    "    scaled_test = scaler.transform(X_test)\n",
    "    scaled_test_u = scaler.transform(X_test_unbalanced)\n",
    "\n",
    "    return scaled_train,scaled_test,scaled_test_u"
   ]
  },
  {
   "cell_type": "code",
   "execution_count": 6,
   "metadata": {},
   "outputs": [],
   "source": [
    "def scaling_data(X_train,X_test,X_test_unbalanced):\n",
    "    features = ['idx','class_q','pdb1','chains_pdb1','pdb2','chains_pdb2',\n",
    "                'label_binary','DQ_val','binary_label','identification','labels']\n",
    "    scaler = StandardScaler()\n",
    "\n",
    "    for x in features :\n",
    "        if x in X_train.columns:\n",
    "            X_train= X_train.drop(x,axis=1)            \n",
    "    for x in features :\n",
    "        if x in X_test.columns: \n",
    "                X_test = X_test.drop(x,axis=1)\n",
    "            \n",
    "    for x in features :\n",
    "        if x in X_test_unbalanced.columns:\n",
    "            X_test_unbalanced= X_test_unbalanced.drop(x,axis=1)\n",
    "\n",
    "    scaler.fit(X_train)\n",
    "    \n",
    "    filename = '../models/scaler_CODES_BM4_all_features.sav'\n",
    "    pickle.dump(scaler, open(filename, 'wb'))\n",
    "    \n",
    "    scaled_train = scaler.transform(X_train)\n",
    "    scaled_test = scaler.transform(X_test)\n",
    "    scaled_test_u = scaler.transform(X_test_unbalanced)\n",
    "    return scaled_train,scaled_test,scaled_test_u"
   ]
  },
  {
   "cell_type": "code",
   "execution_count": 7,
   "metadata": {},
   "outputs": [],
   "source": [
    "\n",
    "rfc_sel_feat = RandomForestClassifier(n_jobs=-1,\n",
    "                                         n_estimators=100,\n",
    "                                         random_state=32,\n",
    "                                         min_samples_split= 10 , \n",
    "                                         class_weight={0:1.2,1:0.1})"
   ]
  },
  {
   "cell_type": "code",
   "execution_count": 8,
   "metadata": {},
   "outputs": [],
   "source": [
    "X_train_fs, X_test_fs, X_test_u_fs = scaling_data_selected(X_train, X_test, X_test_u)\n",
    "X_train_fs, X_val_fs, X_val_u_fs = scaling_data_selected(X_train, X_val, X_val_u)"
   ]
  },
  {
   "cell_type": "code",
   "execution_count": 9,
   "metadata": {},
   "outputs": [
    {
     "data": {
      "text/plain": [
       "RandomForestClassifier(class_weight={0: 1.2, 1: 0.1}, min_samples_split=10,\n",
       "                       n_jobs=-1, random_state=32)"
      ]
     },
     "execution_count": 9,
     "metadata": {},
     "output_type": "execute_result"
    }
   ],
   "source": [
    "np.random.seed(seed = 101) \n",
    "\n",
    "rfc_sel_feat.fit(X_train_fs,y_train)"
   ]
  },
  {
   "cell_type": "code",
   "execution_count": 10,
   "metadata": {},
   "outputs": [],
   "source": [
    "filename = '../models/RFC_CODES_features_selected.sav'\n",
    "pickle.dump(rfc_sel_feat, open(filename, 'wb'))"
   ]
  },
  {
   "cell_type": "code",
   "execution_count": 11,
   "metadata": {},
   "outputs": [],
   "source": [
    "def save_metrics_results(model,x_test,y_test,tag):\n",
    "    # target_names = ['Incorrect', 'Correct']\n",
    "\n",
    "    y_pred = model.predict(x_test)\n",
    "    cr = classification_report(y_true=y_test, y_pred=y_pred,output_dict=True)\n",
    "    mmc = matthews_corrcoef(y_true=y_test, y_pred=y_pred)\n",
    "    # print (cr)\n",
    "    acc = cr[\"accuracy\"]\n",
    "    rec_false = cr[\"False\"][\"recall\"]\n",
    "    rec_true  = cr[\"True\"][\"recall\"]\n",
    "    pres_false = cr[\"False\"][\"precision\"]\n",
    "    pres_true = cr[\"True\"][\"precision\"]\n",
    "    f1_false =  cr[\"False\"][\"f1-score\"]\n",
    "    f1_true =  cr[\"True\"][\"f1-score\"]\n",
    "\n",
    "    results = {\n",
    "        \"Accuracy\": acc,\n",
    "        \"Recall_inc\":rec_false,\n",
    "        \"Recall_cor\":rec_true,\n",
    "        \"Precision_inc\":pres_false ,\n",
    "        \"Precision_cor\":pres_true,\n",
    "        \"F1_inc\":f1_false,\n",
    "        \"F1_cor\":f1_true,\n",
    "        \"MCC\":mmc\n",
    "    }\n",
    "    mean_df = pd.DataFrame(data=results,index=[f\"{tag}\"])\n",
    "    return mean_df\n"
   ]
  },
  {
   "cell_type": "code",
   "execution_count": 23,
   "metadata": {},
   "outputs": [],
   "source": [
    "y_pred= rfc_sel_feat.predict(X_test_u_fs)"
   ]
  },
  {
   "cell_type": "code",
   "execution_count": 24,
   "metadata": {},
   "outputs": [
    {
     "name": "stdout",
     "output_type": "stream",
     "text": [
      "              precision    recall  f1-score   support\n",
      "\n",
      "       False       1.00      0.67      0.80     16618\n",
      "        True       0.28      0.99      0.44      2160\n",
      "\n",
      "    accuracy                           0.71     18778\n",
      "   macro avg       0.64      0.83      0.62     18778\n",
      "weighted avg       0.91      0.71      0.76     18778\n",
      "\n"
     ]
    }
   ],
   "source": [
    "print (classification_report( y_true=y_test_u ,y_pred= y_pred))"
   ]
  },
  {
   "cell_type": "code",
   "execution_count": 25,
   "metadata": {},
   "outputs": [],
   "source": [
    "y_pred= rfc_sel_feat.predict(X_val_u_fs)"
   ]
  },
  {
   "cell_type": "code",
   "execution_count": 26,
   "metadata": {},
   "outputs": [
    {
     "name": "stdout",
     "output_type": "stream",
     "text": [
      "              precision    recall  f1-score   support\n",
      "\n",
      "       False       0.99      0.92      0.95    146541\n",
      "        True       0.46      0.90      0.61     11226\n",
      "\n",
      "    accuracy                           0.92    157767\n",
      "   macro avg       0.73      0.91      0.78    157767\n",
      "weighted avg       0.95      0.92      0.93    157767\n",
      "\n"
     ]
    }
   ],
   "source": [
    "print (classification_report( y_true=y_val_u,y_pred= y_pred))"
   ]
  },
  {
   "cell_type": "code",
   "execution_count": 27,
   "metadata": {},
   "outputs": [],
   "source": [
    "validation = save_metrics_results(model=rfc_sel_feat,\n",
    "                                  x_test=X_val_u_fs,\n",
    "                                  y_test=y_val_u,\n",
    "                                  tag=\"BM5 update\")\n"
   ]
  },
  {
   "cell_type": "code",
   "execution_count": 28,
   "metadata": {},
   "outputs": [
    {
     "name": "stdout",
     "output_type": "stream",
     "text": [
      "\\begin{tabular}{lr}\n",
      "\\toprule\n",
      "{} &  BM5 update \\\\\n",
      "\\midrule\n",
      "Accuracy      &    0.918259 \\\\\n",
      "Recall\\_inc    &    0.919743 \\\\\n",
      "Recall\\_cor    &    0.898895 \\\\\n",
      "Precision\\_inc &    0.991649 \\\\\n",
      "Precision\\_cor &    0.461788 \\\\\n",
      "F1\\_inc        &    0.954343 \\\\\n",
      "F1\\_cor        &    0.610134 \\\\\n",
      "MCC           &    0.609263 \\\\\n",
      "\\bottomrule\n",
      "\\end{tabular}\n",
      "\n"
     ]
    }
   ],
   "source": [
    "print ( validation.T.to_latex() ) "
   ]
  },
  {
   "cell_type": "code",
   "execution_count": 29,
   "metadata": {},
   "outputs": [],
   "source": [
    "test = save_metrics_results(model=rfc_sel_feat,\n",
    "                            x_test=X_test_u_fs,\n",
    "                            y_test=y_test_u,\n",
    "                            tag=\"Score_set\")\n"
   ]
  },
  {
   "cell_type": "code",
   "execution_count": 30,
   "metadata": {},
   "outputs": [
    {
     "name": "stdout",
     "output_type": "stream",
     "text": [
      "\\begin{tabular}{lr}\n",
      "\\toprule\n",
      "{} &  Score\\_set \\\\\n",
      "\\midrule\n",
      "Accuracy      &   0.707317 \\\\\n",
      "Recall\\_inc    &   0.671200 \\\\\n",
      "Recall\\_cor    &   0.985185 \\\\\n",
      "Precision\\_inc &   0.997139 \\\\\n",
      "Precision\\_cor &   0.280295 \\\\\n",
      "F1\\_inc        &   0.802331 \\\\\n",
      "F1\\_cor        &   0.436423 \\\\\n",
      "MCC           &   0.426736 \\\\\n",
      "\\bottomrule\n",
      "\\end{tabular}\n",
      "\n"
     ]
    }
   ],
   "source": [
    "print ( test.T.to_latex() ) "
   ]
  },
  {
   "cell_type": "code",
   "execution_count": 31,
   "metadata": {},
   "outputs": [],
   "source": [
    "def get_success_rate(df,sel):\n",
    "    \"\"\"this funtion read a pandas dataframe and that dataframe need the columns\n",
    "    idx , proba_true , and the label_binary\"\"\"\n",
    "    total_size = {\"val\":float(len(PDB_BM5)),\"test\":float(15)}\n",
    "    \n",
    "    tops = [1,10,100,1000]\n",
    "    tcount = [0 for y in range(len(tops))]\n",
    "    names = [ [] for y in range(len(tops))]\n",
    "    ranks = []\n",
    "    for m in df['idx'].unique():\n",
    "#         print (m, end=\" \")\n",
    "        found = False\n",
    "        count = 0\n",
    "        selection = df[df[\"idx\"]==m]\n",
    "        selection= selection.sort_values(by=[\"proba_true\"], ascending=False)\n",
    "#         print (selection)\n",
    "        for x in selection[\"label_binary\"].values:\n",
    "            count +=1\n",
    "            if x != False:\n",
    "#                 print (x,count)\n",
    "                if not found:\n",
    "                    rank = count\n",
    "                    ranks.append(count)\n",
    "                found = True\n",
    "        if found:\n",
    "\n",
    "            for z in range(len(tops)):\n",
    "                if  rank < tops[z]+1:\n",
    "                    tcount[z] += 1\n",
    "                    if m not in names:\n",
    "                        names[z].append(m)\n",
    "\n",
    "    print (tcount)\n",
    "    for y in tcount:\n",
    "#         print ( float(y) )\n",
    "    #     print (y)\n",
    "        print ( round(float(y)/total_size[sel],4)*100 , end=\" \")\n",
    "    print ()\n",
    "    for m in names:\n",
    "        print (m)"
   ]
  },
  {
   "cell_type": "code",
   "execution_count": 32,
   "metadata": {},
   "outputs": [],
   "source": [
    "def convert_pred(model , X_test_val, X_ori ):\n",
    "    df_pred = pd.DataFrame( model.predict_proba(X_test_val) , \n",
    "                                columns=[\"proba_false\",\"proba_true\"])\n",
    "    df_pred = df_pred.set_index( X_ori.index ) \n",
    "    label = X_ori[\"label_binary\"].astype('bool')\n",
    "    df_pred = pd.concat( [ X_ori[\"idx\"],label, df_pred ], axis=1)\n",
    "#     df_pred = df_pred[\"label_binary\"].astype('bool')\n",
    "    \n",
    "    return df_pred"
   ]
  },
  {
   "cell_type": "code",
   "execution_count": 33,
   "metadata": {},
   "outputs": [],
   "source": [
    "df_pred = convert_pred ( rfc_sel_feat, X_test_u_fs, X_test_u  )"
   ]
  },
  {
   "cell_type": "code",
   "execution_count": 34,
   "metadata": {},
   "outputs": [
    {
     "name": "stdout",
     "output_type": "stream",
     "text": [
      "[6, 9, 10, 13]\n",
      "40.0 60.0 66.67 86.67 \n",
      "['Target29', 'Target37', 'Target40', 'Target41', 'Target47', 'Target50']\n",
      "['Target29', 'Target32', 'Target37', 'Target40', 'Target41', 'Target46', 'Target47', 'Target50', 'Target53']\n",
      "['Target29', 'Target32', 'Target37', 'Target39', 'Target40', 'Target41', 'Target46', 'Target47', 'Target50', 'Target53']\n",
      "['Target29', 'Target30', 'Target32', 'Target35', 'Target37', 'Target39', 'Target40', 'Target41', 'Target46', 'Target47', 'Target50', 'Target53', 'Target54']\n"
     ]
    }
   ],
   "source": [
    "get_success_rate(df_pred,\"test\")\n"
   ]
  },
  {
   "cell_type": "code",
   "execution_count": 35,
   "metadata": {},
   "outputs": [],
   "source": [
    "df_pred = convert_pred ( rfc_sel_feat, X_val_u_fs, X_val_u  )"
   ]
  },
  {
   "cell_type": "code",
   "execution_count": 36,
   "metadata": {},
   "outputs": [
    {
     "name": "stdout",
     "output_type": "stream",
     "text": [
      "[24, 31, 36, 48]\n",
      "43.64 56.36 65.45 87.27000000000001 \n",
      "['1JTD', '2A1A', '2VXT', '2YVJ', '3A4S', '3BX7', '3G6D', '3H11', '3HMX', '3K75', '3L5W', '3LVK', '3MXW', '3P57', '3PC8', '3RVW', '3S9D', '3VLB', '4FZA', '4G6J', '4G6M', '4LW4', 'CP57', '2W9E']\n",
      "['1EXB', '1JTD', '2A1A', '2GAF', '2VXT', '2YVJ', '3A4S', '3BX7', '3DAW', '3EO1', '3F1P', '3G6D', '3H11', '3HI6', '3HMX', '3K75', '3L5W', '3LVK', '3MXW', '3P57', '3PC8', '3RVW', '3S9D', '3VLB', '4DN4', '4FZA', '4G6J', '4G6M', '4LW4', 'CP57', '2W9E']\n",
      "['1EXB', '1JTD', '1RKE', '2A1A', '2GAF', '2VXT', '2YVJ', '3A4S', '3AAD', '3BX7', '3DAW', '3EO1', '3F1P', '3G6D', '3H11', '3HI6', '3HMX', '3K75', '3L5W', '3LVK', '3MXW', '3P57', '3PC8', '3RVW', '3S9D', '3VLB', '4DN4', '4FQI', '4FZA', '4G6J', '4G6M', '4H03', '4JCV', '4LW4', 'CP57', '2W9E']\n",
      "['1EXB', '1JTD', '1M27', '1RKE', '2A1A', '2GAF', '2GTP', '2VXT', '2X9A', '2YVJ', '3A4S', '3AAA', '3AAD', '3BIW', '3BX7', '3DAW', '3EO1', '3EOA', '3F1P', '3G6D', '3H11', '3H2V', '3HI6', '3HMX', '3K75', '3L5W', '3LVK', '3MXW', '3P57', '3PC8', '3R9A', '3RVW', '3S9D', '3SZK', '3V6Z', '3VLB', '4DN4', '4FQI', '4FZA', '4G6J', '4G6M', '4H03', '4HX3', '4JCV', '4LW4', 'BP57', 'CP57', '2W9E']\n"
     ]
    }
   ],
   "source": [
    "get_success_rate(df_pred,\"val\")\n"
   ]
  },
  {
   "cell_type": "code",
   "execution_count": 43,
   "metadata": {},
   "outputs": [
    {
     "data": {
      "text/plain": [
       "incorrect     16618\n",
       "acceptable      857\n",
       "medium          817\n",
       "high            486\n",
       "Name: labels, dtype: int64"
      ]
     },
     "execution_count": 43,
     "metadata": {},
     "output_type": "execute_result"
    }
   ],
   "source": [
    "X_test_u[\"labels\"].value_counts()"
   ]
  },
  {
   "cell_type": "code",
   "execution_count": 44,
   "metadata": {},
   "outputs": [],
   "source": [
    "def convert_quality_df(model , X_test_val, X_ori ):\n",
    "    df_pred = pd.DataFrame( model.predict_proba(X_test_val) , \n",
    "                                columns=[\"proba_false\",\"proba_true\"])\n",
    "    df_pred = df_pred.set_index( X_ori.index ) \n",
    "    label = X_ori[\"labels\"]\n",
    "    df_pred = pd.concat( [ X_ori[\"idx\"],label, df_pred ], axis=1)\n",
    "#     df_pred = df_pred[\"label_binary\"].astype('bool')\n",
    "    \n",
    "    return df_pred"
   ]
  },
  {
   "cell_type": "code",
   "execution_count": 45,
   "metadata": {},
   "outputs": [],
   "source": [
    "df_pred_q = convert_quality_df ( rfc_sel_feat, X_test_u_fs, X_test_u  )"
   ]
  },
  {
   "cell_type": "code",
   "execution_count": 47,
   "metadata": {},
   "outputs": [],
   "source": [
    "def quality_breakdown(df):\n",
    "#     print (df.columns)\n",
    "#     q = [incorrect, acceptable, medium, high]\n",
    "    A , ME , H , Total = 0,0,0,0\n",
    "    T = [] \n",
    "    for m in df['idx'].unique():\n",
    "#         print (m)\n",
    "        count =0 \n",
    "        a = 0 \n",
    "        me = 0\n",
    "        h = 0\n",
    "        selection = df[df['idx']== m ]\n",
    "        selection= selection.sort_values(by=[\"proba_true\"], ascending=False)\n",
    "#         print (selection.columns, selection.shape)\n",
    "        for x in selection[\"labels\"].values[:10]:\n",
    "#             count +=1\n",
    "#             print (x)\n",
    "#             print (m, x,count)\n",
    "\n",
    "            if x != 'incorrect':\n",
    "                if x == \"acceptable\":\n",
    "                    a += 1\n",
    "                elif x == \"medium\":\n",
    "                    me += 1\n",
    "                else :\n",
    "                    h += 1\n",
    "        T.append( (h+me+a, h, me, a) )\n",
    "        print (f\"{m}    {h+me+a}/{h}***/{me}**/{a}* \")\n",
    "\n",
    "    for t in T :\n",
    "        Total += t[0]\n",
    "        H += t[1]\n",
    "        ME += t[2]\n",
    "        A += t[3]\n",
    "    print (f\"{Total}/{H}/{ME}/{A}\")\n",
    "#         print ( t[0], t[1], t[2] , t[3]  )\n",
    "\n",
    "    \n",
    "#                 if not found:\n",
    "#                     rank = count\n",
    "#                     ranks.append(count)\n",
    "\n"
   ]
  },
  {
   "cell_type": "code",
   "execution_count": 48,
   "metadata": {},
   "outputs": [
    {
     "name": "stdout",
     "output_type": "stream",
     "text": [
      "Target29    10/0***/7**/3* \n",
      "Target30    0/0***/0**/0* \n",
      "Target32    1/0***/1**/0* \n",
      "Target35    0/0***/0**/0* \n",
      "Target36    0/0***/0**/0* \n",
      "Target37    9/2***/1**/6* \n",
      "Target38    0/0***/0**/0* \n",
      "Target39    0/0***/0**/0* \n",
      "Target40    8/3***/5**/0* \n",
      "Target41    5/0***/2**/3* \n",
      "Target46    2/0***/0**/2* \n",
      "Target47    9/4***/5**/0* \n",
      "Target50    7/0***/2**/5* \n",
      "Target53    2/0***/1**/1* \n",
      "Target54    0/0***/0**/0* \n",
      "53/9/24/20\n"
     ]
    }
   ],
   "source": [
    "quality_breakdown(df_pred_q)"
   ]
  },
  {
   "cell_type": "code",
   "execution_count": 49,
   "metadata": {},
   "outputs": [],
   "source": [
    "df_pred_q[df_pred_q[\"idx\"]==\"Target37\"].sort_values(by=[\"proba_true\"], ascending=False).head(n=10).to_csv(\"../data/Top10_Target37_scorers.csv\")"
   ]
  },
  {
   "cell_type": "code",
   "execution_count": 50,
   "metadata": {},
   "outputs": [
    {
     "name": "stderr",
     "output_type": "stream",
     "text": [
      "/Users/barradd/anaconda3/envs/ML_env/lib/python3.7/site-packages/pandas/core/frame.py:4446: SettingWithCopyWarning: \n",
      "A value is trying to be set on a copy of a slice from a DataFrame\n",
      "\n",
      "See the caveats in the documentation: https://pandas.pydata.org/pandas-docs/stable/user_guide/indexing.html#returning-a-view-versus-a-copy\n",
      "  errors=errors,\n"
     ]
    }
   ],
   "source": [
    "df_CRank = X_test_u[[\"idx\",\"CONSRANK_val\",\"labels\"]]\n",
    "df_CRank.rename(columns={\"CONSRANK_val\":\"proba_true\"\n",
    "                          },inplace=True)"
   ]
  },
  {
   "cell_type": "code",
   "execution_count": 51,
   "metadata": {},
   "outputs": [
    {
     "name": "stdout",
     "output_type": "stream",
     "text": [
      "Target29    10/0***/9**/1* \n",
      "Target30    0/0***/0**/0* \n",
      "Target32    0/0***/0**/0* \n",
      "Target35    0/0***/0**/0* \n",
      "Target36    0/0***/0**/0* \n",
      "Target37    4/1***/3**/0* \n",
      "Target38    0/0***/0**/0* \n",
      "Target39    0/0***/0**/0* \n",
      "Target40    10/8***/2**/0* \n",
      "Target41    10/0***/5**/5* \n",
      "Target46    0/0***/0**/0* \n",
      "Target47    10/7***/3**/0* \n",
      "Target50    0/0***/0**/0* \n",
      "Target53    2/0***/0**/2* \n",
      "Target54    0/0***/0**/0* \n",
      "46/16/22/8\n"
     ]
    }
   ],
   "source": [
    "quality_breakdown(df_CRank)"
   ]
  },
  {
   "cell_type": "code",
   "execution_count": 52,
   "metadata": {},
   "outputs": [
    {
     "data": {
      "text/html": [
       "<div>\n",
       "<style scoped>\n",
       "    .dataframe tbody tr th:only-of-type {\n",
       "        vertical-align: middle;\n",
       "    }\n",
       "\n",
       "    .dataframe tbody tr th {\n",
       "        vertical-align: top;\n",
       "    }\n",
       "\n",
       "    .dataframe thead th {\n",
       "        text-align: right;\n",
       "    }\n",
       "</style>\n",
       "<table border=\"1\" class=\"dataframe\">\n",
       "  <thead>\n",
       "    <tr style=\"text-align: right;\">\n",
       "      <th></th>\n",
       "      <th>idx</th>\n",
       "      <th>proba_true</th>\n",
       "      <th>labels</th>\n",
       "    </tr>\n",
       "    <tr>\n",
       "      <th>Conf</th>\n",
       "      <th></th>\n",
       "      <th></th>\n",
       "      <th></th>\n",
       "    </tr>\n",
       "  </thead>\n",
       "  <tbody>\n",
       "    <tr>\n",
       "      <th>r_model-1000.pdb</th>\n",
       "      <td>Target29</td>\n",
       "      <td>0.003397</td>\n",
       "      <td>incorrect</td>\n",
       "    </tr>\n",
       "    <tr>\n",
       "      <th>r_model-1001.pdb</th>\n",
       "      <td>Target29</td>\n",
       "      <td>0.001197</td>\n",
       "      <td>incorrect</td>\n",
       "    </tr>\n",
       "    <tr>\n",
       "      <th>r_model-1002.pdb</th>\n",
       "      <td>Target29</td>\n",
       "      <td>0.008943</td>\n",
       "      <td>incorrect</td>\n",
       "    </tr>\n",
       "    <tr>\n",
       "      <th>r_model-1003.pdb</th>\n",
       "      <td>Target29</td>\n",
       "      <td>0.042440</td>\n",
       "      <td>medium</td>\n",
       "    </tr>\n",
       "    <tr>\n",
       "      <th>r_model-1004.pdb</th>\n",
       "      <td>Target29</td>\n",
       "      <td>0.004282</td>\n",
       "      <td>incorrect</td>\n",
       "    </tr>\n",
       "    <tr>\n",
       "      <th>...</th>\n",
       "      <td>...</td>\n",
       "      <td>...</td>\n",
       "      <td>...</td>\n",
       "    </tr>\n",
       "    <tr>\n",
       "      <th>r_model-2395.pdb</th>\n",
       "      <td>Target54</td>\n",
       "      <td>0.037439</td>\n",
       "      <td>incorrect</td>\n",
       "    </tr>\n",
       "    <tr>\n",
       "      <th>r_model-2396.pdb</th>\n",
       "      <td>Target54</td>\n",
       "      <td>0.087326</td>\n",
       "      <td>incorrect</td>\n",
       "    </tr>\n",
       "    <tr>\n",
       "      <th>r_model-2397.pdb</th>\n",
       "      <td>Target54</td>\n",
       "      <td>0.026871</td>\n",
       "      <td>incorrect</td>\n",
       "    </tr>\n",
       "    <tr>\n",
       "      <th>r_model-2398.pdb</th>\n",
       "      <td>Target54</td>\n",
       "      <td>0.012798</td>\n",
       "      <td>incorrect</td>\n",
       "    </tr>\n",
       "    <tr>\n",
       "      <th>r_model-2399.pdb</th>\n",
       "      <td>Target54</td>\n",
       "      <td>0.038945</td>\n",
       "      <td>incorrect</td>\n",
       "    </tr>\n",
       "  </tbody>\n",
       "</table>\n",
       "<p>18778 rows × 3 columns</p>\n",
       "</div>"
      ],
      "text/plain": [
       "                       idx  proba_true     labels\n",
       "Conf                                             \n",
       "r_model-1000.pdb  Target29    0.003397  incorrect\n",
       "r_model-1001.pdb  Target29    0.001197  incorrect\n",
       "r_model-1002.pdb  Target29    0.008943  incorrect\n",
       "r_model-1003.pdb  Target29    0.042440     medium\n",
       "r_model-1004.pdb  Target29    0.004282  incorrect\n",
       "...                    ...         ...        ...\n",
       "r_model-2395.pdb  Target54    0.037439  incorrect\n",
       "r_model-2396.pdb  Target54    0.087326  incorrect\n",
       "r_model-2397.pdb  Target54    0.026871  incorrect\n",
       "r_model-2398.pdb  Target54    0.012798  incorrect\n",
       "r_model-2399.pdb  Target54    0.038945  incorrect\n",
       "\n",
       "[18778 rows x 3 columns]"
      ]
     },
     "execution_count": 52,
     "metadata": {},
     "output_type": "execute_result"
    }
   ],
   "source": [
    "df_CRank"
   ]
  },
  {
   "cell_type": "code",
   "execution_count": 53,
   "metadata": {},
   "outputs": [],
   "source": [
    "from math import pi\n",
    "## source code ##\n",
    "## https://python-graph-gallery.com/391-radar-chart-with-several-individuals/\n",
    "def plot_radar(dataframe,title):\n",
    "  # ------- PART 1: Create background\n",
    "  categories = dataframe.T.index.to_list()\n",
    "  # number of variable\n",
    "  # categories=list(df)[1:]\n",
    "  #categories = metrics_only.T[\"group\"].values.tolist() ### original line \n",
    "\n",
    "  N = len(categories)\n",
    "  \n",
    "  # What will be the angle of each axis in the plot? (we divide the plot / number of variable)\n",
    "  angles = [n / float(N) * 2 * pi for n in range(N)]\n",
    "  angles += angles[:1]\n",
    "  \n",
    "  # Initialise the spider plot\n",
    "  ax = plt.subplot(111, polar=True)\n",
    "  \n",
    "  # If you want the first axis to be on top:\n",
    "  ax.set_theta_offset(pi / 2)\n",
    "  ax.set_theta_direction(-1)\n",
    "  \n",
    "  # Draw one axe per variable + add labels labels yet\n",
    "  plt.xticks(angles[:-1], categories)\n",
    "  \n",
    "  # Draw ylabels\n",
    "  ax.set_rlabel_position(0)\n",
    "\n",
    "  plt.yticks([0,0.2,0.4,0.6,0.8,1.0], [\"0\",\"0.2\",\"0.4\",\"0.6\",\"0.8\",\"1.0\"], color=\"grey\", size=10)\n",
    "  plt.ylim(0,1)\n",
    "  # plt.yticks([0.4,0.5,0.6,0.7,0.8,0.9,1.0], [\"0.4\",\"0.5\",\"0.6\",\"0.7\",\"0.8\",\"0.9\",\"1.0\"], color=\"grey\", size=10)\n",
    "  # plt.ylim(0.4,1)\n",
    "\n",
    "  \n",
    "  #------ PART 2: Add plots\n",
    "  \n",
    "  # Plot each individual = each line of the data\n",
    "  # I don't do a loop, because plotting more than 3 groups makes the chart unreadable\n",
    "\n",
    "  #for i,row in zip(['r','g','b'],[\"SVM\",\"Perceptron\",\"RandomForest\"]):\n",
    "  for i,row in zip(['b','r'],dataframe.index.to_list()):\n",
    "      print (i,row)\n",
    "      values = dataframe.loc[row].values.flatten().tolist()\n",
    "      values += values[:1]\n",
    "      ax.plot(angles, values ,linewidth=1, linestyle='solid', label=row)\n",
    "      # ax.fill(angles, values,i , alpha=0.1)\n",
    "\n",
    "\n",
    "  \n",
    "  # Add legend\n",
    "  plt.legend(loc='upper right', bbox_to_anchor=(0.1, 0.1))\n",
    "  plt.tight_layout()\n",
    "#   plt.show()\n",
    "#   plt.savefig(f\"../figures/{title}.svg\",dpi=300,transparent=True,format=\"svg\")\n",
    "  plt.savefig(f\"../figures/{title}.eps\",format=\"eps\")"
   ]
  },
  {
   "cell_type": "code",
   "execution_count": 54,
   "metadata": {},
   "outputs": [],
   "source": [
    "df_performance_FS  = pd.concat( [validation,test])"
   ]
  },
  {
   "cell_type": "code",
   "execution_count": 55,
   "metadata": {},
   "outputs": [
    {
     "name": "stdout",
     "output_type": "stream",
     "text": [
      "\\begin{tabular}{lrrrrrrrr}\n",
      "\\toprule\n",
      "{} &  Accuracy &  Recall\\_inc &  Recall\\_cor &  Precision\\_inc &  Precision\\_cor &    F1\\_inc &    F1\\_cor &       MCC \\\\\n",
      "\\midrule\n",
      "BM5 update &  0.918259 &    0.919743 &    0.898895 &       0.991649 &       0.461788 &  0.954343 &  0.610134 &  0.609263 \\\\\n",
      "Score\\_set  &  0.707317 &    0.671200 &    0.985185 &       0.997139 &       0.280295 &  0.802331 &  0.436423 &  0.426736 \\\\\n",
      "\\bottomrule\n",
      "\\end{tabular}\n",
      "\n"
     ]
    }
   ],
   "source": [
    "print (df_performance_FS.to_latex())"
   ]
  },
  {
   "cell_type": "code",
   "execution_count": 56,
   "metadata": {},
   "outputs": [],
   "source": [
    "df_performance_FS.columns = ['Acc', 'R_inc', 'R_cor', 'P_inc',\n",
    "       'P_cor', 'F1_inc', 'F1_cor', 'MCC']"
   ]
  },
  {
   "cell_type": "code",
   "execution_count": 57,
   "metadata": {},
   "outputs": [
    {
     "name": "stdout",
     "output_type": "stream",
     "text": [
      "b BM5 update\n",
      "r Score_set\n"
     ]
    },
    {
     "name": "stderr",
     "output_type": "stream",
     "text": [
      "The PostScript backend does not support transparency; partially transparent artists will be rendered opaque.\n",
      "The PostScript backend does not support transparency; partially transparent artists will be rendered opaque.\n"
     ]
    },
    {
     "data": {
      "image/png": "[encoded data removed]",
      "text/plain": [
       "<Figure size 432x288 with 1 Axes>"
      ]
     },
     "metadata": {},
     "output_type": "display_data"
    }
   ],
   "source": [
    "plot_radar(df_performance_FS,\"Feature_selection_performance\")"
   ]
  },
  {
   "cell_type": "code",
   "execution_count": null,
   "metadata": {},
   "outputs": [],
   "source": []
  }
 ],
 "metadata": {
  "kernelspec": {
   "display_name": "Python 3",
   "language": "python",
   "name": "python3"
  },
  "language_info": {
   "codemirror_mode": {
    "name": "ipython",
    "version": 3
   },
   "file_extension": ".py",
   "mimetype": "text/x-python",
   "name": "python",
   "nbconvert_exporter": "python",
   "pygments_lexer": "ipython3",
   "version": "3.7.9"
  }
 },
 "nbformat": 4,
 "nbformat_minor": 4
}
