{
 "cells": [
  {
   "cell_type": "code",
   "execution_count": 1,
   "metadata": {},
   "outputs": [
    {
     "data": {
      "text/plain": [
       "'use the ML_env to reproduce the results reported'"
      ]
     },
     "execution_count": 1,
     "metadata": {},
     "output_type": "execute_result"
    }
   ],
   "source": [
    "import pandas as pd\n",
    "import numpy as np\n",
    "import sys , os \n",
    "import seaborn as sns \n",
    "import sklearn as sk\n",
    "from sklearn.metrics import classification_report,matthews_corrcoef\n",
    "from sklearn.ensemble import RandomForestClassifier\n",
    "from sklearn.preprocessing import StandardScaler\n",
    "from sklearn.model_selection import train_test_split\n",
    "from sklearn.metrics import auc\n",
    "import matplotlib.pyplot as plt \n",
    "import seaborn as sns\n",
    "sns.set_style(style=\"whitegrid\")\n",
    "\n",
    "PDB_BM5 = [\n",
    "'1EXB','1JTD','1M27','1RKE','2A1A','2GAF','2GTP','2VXT','2W9E',\n",
    "'2X9A','2YVJ','3A4S','3AAA','BAAD','3AAD','3BIW','3BX7',\n",
    "'3DAW','3EO1','3EOA','3F1P','3FN1','3G6D','3H11',\n",
    "'3H2V','3HI6','3HMX','3K75','3L5W','3L89','3LVK','3MXW',\n",
    "'BP57','CP57','3P57','3PC8','3R9A','3RVW','3S9D','3SZK',\n",
    "'3V6Z','3VLB','4DN4','4FQI','4FZA','4G6J','4G6M','4GAM',\n",
    "'4GXU','4H03','4HX3','4IZ7','4JCV','4LW4','4M76'\n",
    "]\n",
    "\n",
    "\"\"\"use the ML_env to reproduce the results reported\"\"\""
   ]
  },
  {
   "cell_type": "code",
   "execution_count": 2,
   "metadata": {},
   "outputs": [
    {
     "name": "stdout",
     "output_type": "stream",
     "text": [
      "Numpy version:1.19.2\n",
      "Pandas version:1.2.1\n",
      "Sklearn version:0.23.2\n"
     ]
    }
   ],
   "source": [
    "print (f\"Numpy version:{np.__version__}\")\n",
    "print (f\"Pandas version:{pd.__version__}\")\n",
    "print (f\"Sklearn version:{sk.__version__}\")"
   ]
  },
  {
   "cell_type": "code",
   "execution_count": 3,
   "metadata": {},
   "outputs": [],
   "source": [
    "def load_data_sets():\n",
    "    all_balanced_data = pd.read_csv(\"../data/Clean_dataframe_balanced_all_data_ccharppi_4_march_2020_complete.csv\",dtype={'class_q': 'object'})\n",
    "    all_balanced_data.set_index('Conf',inplace=True)\n",
    "    all_balanced_data.loc[\"Z_1JTG_1136_M.pdb\",\"DDG_V\"]  = all_balanced_data[\"DDG_V\"].mean()\n",
    "    print (all_balanced_data.shape)\n",
    "    all_unbalanced_data = pd.read_csv(\"../data/Clean_dataframe_unbalanced_all_data_ccharppi_4_march_2020_complete.csv\",dtype={'class_q': 'object'})\n",
    "    all_unbalanced_data.set_index('Conf',inplace=True)\n",
    "    all_unbalanced_data.loc[\"Z_1JTG_1136_M.pdb\",\"DDG_V\"]  = all_balanced_data[\"DDG_V\"].mean()\n",
    "\n",
    "\n",
    "#     Scorers_balanced_data = pd.read_csv(\"../data/Clean_dataframe_balanced_scorers_set_feb_12_2021.csv\")\n",
    "    Scorers_balanced_data = pd.read_csv(\"../data/Clean_dataframe_balanced_scorers_set.csv\")\n",
    "    print (Scorers_balanced_data.shape)\n",
    "\n",
    "\n",
    "    Scorers_balanced_data.set_index('Conf',inplace=True)\n",
    "    Scorers_balanced_data.dropna(inplace=True)\n",
    "\n",
    "#     Scorers_unbalanced_data = pd.read_csv(\"../data/Clean_dataframe_unbalanced_scorers_set_feb_12_2021.csv\")\n",
    "    Scorers_unbalanced_data = pd.read_csv(\"../data/Clean_dataframe_unbalanced_scorers_set.csv\")\n",
    "\n",
    "    Scorers_unbalanced_data.set_index('Conf',inplace=True)\n",
    "    Scorers_unbalanced_data.dropna(inplace=True)\n",
    "\n",
    "    X_train = all_balanced_data[~all_balanced_data[\"idx\"].isin(PDB_BM5) ]\n",
    "    y_train = all_balanced_data[~all_balanced_data[\"idx\"].isin(PDB_BM5) ][\"label_binary\"].astype('bool')\n",
    "\n",
    "            ## data set for less than 5 \n",
    "    X_val = all_balanced_data[all_balanced_data[\"idx\"].isin(PDB_BM5) ]\n",
    "    y_val = all_balanced_data[all_balanced_data[\"idx\"].isin(PDB_BM5) ][\"label_binary\"].astype('bool')\n",
    "    #         print (X_test.size,y_test.size)\n",
    "            ## data set for less than 5 \n",
    "    X_val_u = all_unbalanced_data[all_unbalanced_data[\"idx\"].isin(PDB_BM5) ]\n",
    "    y_val_u = all_unbalanced_data[all_unbalanced_data[\"idx\"].isin(PDB_BM5) ][\"label_binary\"].astype('bool')\n",
    "    \n",
    "    X_test = Scorers_balanced_data\n",
    "    y_test = Scorers_balanced_data[\"binary_label\"].astype('bool')\n",
    "    \n",
    "    X_test_u = Scorers_unbalanced_data\n",
    "    y_test_u = Scorers_unbalanced_data[\"binary_label\"].astype('bool')\n",
    "    \n",
    "    X_test_u.rename(columns={'NIS Polar' :'Nis_Polar',\n",
    "                                  'Nis Apolar':'Nis_Apolar',\n",
    "                                  'BSA Apolar':'BSA_Apolar',\n",
    "                                  'BSA Polar' :'BSA_Polar',\n",
    "                                'binary_label':'label_binary'\n",
    "                            },inplace=True)\n",
    "    X_test.rename(columns={'NIS Polar' :'Nis_Polar',\n",
    "                                  'Nis Apolar':'Nis_Apolar',\n",
    "                                  'BSA Apolar':'BSA_Apolar',\n",
    "                                  'BSA Polar' :'BSA_Polar',\n",
    "                                   'binary_label':'label_binary'\n",
    "                          },inplace=True)\n",
    "    \n",
    "#     for x in X_val_u.columns:\n",
    "#         if x not in X_test.columns:\n",
    "#             print (x)\n",
    "    return X_train, y_train , X_val, y_val, X_test, y_test ,X_val_u, y_val_u, X_test_u, y_test_u "
   ]
  },
  {
   "cell_type": "code",
   "execution_count": 4,
   "metadata": {},
   "outputs": [
    {
     "name": "stdout",
     "output_type": "stream",
     "text": [
      "(73684, 161)\n",
      "(3990, 162)\n"
     ]
    }
   ],
   "source": [
    "X_train, y_train , X_val, y_val, X_test, y_test ,X_val_u, y_val_u, X_test_u, y_test_u  = load_data_sets()"
   ]
  },
  {
   "cell_type": "code",
   "execution_count": 5,
   "metadata": {},
   "outputs": [],
   "source": [
    "def scaling_data_selected(X_train,X_test,X_test_unbalanced):\n",
    "    scaler = StandardScaler()\n",
    "\n",
    "\n",
    "    selected_feat = ['CONSRANK_val','AP_GOAP_DF','CP_TD','CP_D1','CP_HLPL',\n",
    "                      'DDG_V','CP_MJ3h','PYDOCK_TOT','ELE','CP_SKOIP',\n",
    "                      'SIPPER','AP_DFIRE2','AP_dDFIRE','AP_PISA','CP_RMFCA',\n",
    "                     ]\n",
    "    \n",
    "    X_train = X_train[selected_feat]\n",
    "    X_test = X_test[selected_feat]\n",
    "    X_test_unbalanced= X_test_unbalanced[selected_feat]\n",
    "\n",
    "\n",
    "    scaler.fit(X_train)\n",
    "    scaled_train = scaler.transform(X_train)\n",
    "    scaled_test = scaler.transform(X_test)\n",
    "    scaled_test_u = scaler.transform(X_test_unbalanced)\n",
    "    return scaled_train,scaled_test,scaled_test_u"
   ]
  },
  {
   "cell_type": "code",
   "execution_count": 6,
   "metadata": {},
   "outputs": [],
   "source": [
    "def scaling_data(X_train,X_test,X_test_unbalanced):\n",
    "    features = ['idx','class_q','pdb1','chains_pdb1','pdb2','chains_pdb2',\n",
    "                'label_binary','DQ_val','binary_label','identification','labels']\n",
    "    scaler = StandardScaler()\n",
    "\n",
    "    for x in features :\n",
    "        if x in X_train.columns:\n",
    "            X_train= X_train.drop(x,axis=1)            \n",
    "    for x in features :\n",
    "        if x in X_test.columns: \n",
    "                X_test = X_test.drop(x,axis=1)\n",
    "            \n",
    "    for x in features :\n",
    "        if x in X_test_unbalanced.columns:\n",
    "            X_test_unbalanced= X_test_unbalanced.drop(x,axis=1)\n",
    "\n",
    "    scaler.fit(X_train)\n",
    "    scaled_train = scaler.transform(X_train)\n",
    "    scaled_test = scaler.transform(X_test)\n",
    "    scaled_test_u = scaler.transform(X_test_unbalanced)\n",
    "    return scaled_train,scaled_test,scaled_test_u"
   ]
  },
  {
   "cell_type": "code",
   "execution_count": 7,
   "metadata": {},
   "outputs": [],
   "source": [
    "\"\"\"funtions to manage the tags and classes\"\"\"\n",
    "def add_quality_class_binary (z):\n",
    "    if \"_I.pdb\" in z or \"_G.pdb\" in z:\n",
    "        return 0.0\n",
    "    else:\n",
    "        return 1.0\n",
    "def get_the_tag_case(x):\n",
    "    tag = x.split(\"_\")[1]\n",
    "    return tag\n",
    "    \n",
    "def get_the_tag_number(x):\n",
    "    tag = x.split(\"_\")[2]\n",
    "    return int(tag)"
   ]
  },
  {
   "cell_type": "code",
   "execution_count": 8,
   "metadata": {},
   "outputs": [],
   "source": [
    "def load_the_big_files():\n",
    "    \"\"\"This funtions will load the 10Kfiles , \n",
    "    this files need the label columns that can \n",
    "    be derived from the Conf column\"\"\"\n",
    "    \n",
    "    all_info = [] \n",
    "    for idx in PDB_BM5:\n",
    "        dataframe = pd.read_csv(f\"../data/3K_results_ZDock/{idx}_Zdock_ccharppi_3K.csv\")\n",
    "        dataframe[\"label_binary\"] = dataframe[\"Conf\"].apply(add_quality_class_binary)\n",
    "        dataframe[\"idx\"] = idx\n",
    "        dataframe[\"Number\"] = dataframe[\"Conf\"].apply(get_the_tag_number)\n",
    "        dataframe  = dataframe.sort_values(by=\"Number\",ascending=True)\n",
    "        dataframe.set_index('Conf',inplace=True)\n",
    "        all_info.append (dataframe) \n",
    "    \n",
    "    final_df_zdock = pd.concat(all_info)\n",
    "    \n",
    "    \n",
    "    \n",
    "    all_info = [] \n",
    "    for idx in PDB_BM5:\n",
    "#         print (idx)\n",
    "        dataframe = pd.read_csv(f\"../data/3K_results_PyDock/{idx}_ftdock_ccharppi_3K.csv\")\n",
    "        dataframe[\"label_binary\"] = dataframe[\"Conf\"].apply(add_quality_class_binary)\n",
    "        dataframe[\"idx\"] = idx\n",
    "        dataframe[\"Number\"] = dataframe[\"Conf\"].apply(get_the_tag_number)\n",
    "        dataframe  = dataframe.sort_values(by=\"Number\",ascending=True)\n",
    "        dataframe.set_index('Conf',inplace=True)\n",
    "        all_info.append (dataframe) \n",
    "    \n",
    "    final_df_pydock = pd.concat(all_info)\n",
    "    return final_df_zdock, final_df_pydock"
   ]
  },
  {
   "cell_type": "code",
   "execution_count": 9,
   "metadata": {},
   "outputs": [],
   "source": [
    "tenk_load_zdock, tenk_load_pydock = load_the_big_files()"
   ]
  },
  {
   "cell_type": "code",
   "execution_count": 10,
   "metadata": {},
   "outputs": [],
   "source": [
    "# tenk_load.info()"
   ]
  },
  {
   "cell_type": "code",
   "execution_count": 11,
   "metadata": {},
   "outputs": [
    {
     "data": {
      "text/plain": [
       "(165014, 82)"
      ]
     },
     "execution_count": 11,
     "metadata": {},
     "output_type": "execute_result"
    }
   ],
   "source": [
    "tenk_load_zdock.shape \n",
    "\n",
    "tenk_load_pydock.shape\n",
    "# test = pd.read_csv(\"../data/ZDOCK_10K_results/1EXB_Zdock_ccharppi_10K.csv\")"
   ]
  },
  {
   "cell_type": "code",
   "execution_count": 12,
   "metadata": {},
   "outputs": [],
   "source": [
    "# test[\"label_binary\"] = test[\"Conf\"].apply(add_quality_class_binary)\n",
    "# test[\"idx\"] = \"1EXB\"\n",
    "# test[\"Number\"] = test[\"Conf\"].apply(get_the_tag_number)\n",
    "# test  = test.sort_values(by=\"Number\",ascending=True)\n",
    "# test.set_index('Conf',inplace=True)"
   ]
  },
  {
   "cell_type": "code",
   "execution_count": 13,
   "metadata": {},
   "outputs": [],
   "source": [
    "# test.head()"
   ]
  },
  {
   "cell_type": "code",
   "execution_count": 14,
   "metadata": {},
   "outputs": [],
   "source": [
    "# rfc_all_feat = RandomForestClassifier(n_jobs=-1,\n",
    "#                                          n_estimators=100,\n",
    "#                                          random_state=32,\n",
    "#                                          min_samples_split= 10 , \n",
    "#                                          class_weight={0:1.2,1:0.1})\n",
    "rfc_sel_feat = RandomForestClassifier(n_jobs=-1,\n",
    "                                         n_estimators=100,\n",
    "                                         random_state=32,\n",
    "                                         min_samples_split= 10 , \n",
    "                                         class_weight={0:1.2,1:0.1})"
   ]
  },
  {
   "cell_type": "code",
   "execution_count": 15,
   "metadata": {},
   "outputs": [],
   "source": [
    "# X_train_w, X_test_w, X_test_u_w = scaling_data(X_train, X_test, X_test_u)\n",
    "# X_train_w, X_val_w, X_val_u_w = scaling_data(X_train, X_val, X_val_u)\n",
    "\n",
    "X_train_fs, X_test_fs, X_test_u_fs = scaling_data_selected(X_train, X_test, X_test_u)\n",
    "# X_train_fs, X_val_fs, X_val_u_fs = scaling_data_selected(X_train, X_val, X_val_u)\n",
    "\n",
    "### Here instead of the normal Valiadtion mixed each of the methods have its X_val_u_fs\n",
    "X_train_fs, X_val_fs, X_val_u_fs_zd = scaling_data_selected(X_train, X_val, tenk_load_zdock)\n",
    "X_train_fs, X_val_fs, X_val_u_fs_py = scaling_data_selected(X_train, X_val, tenk_load_pydock)"
   ]
  },
  {
   "cell_type": "code",
   "execution_count": 16,
   "metadata": {},
   "outputs": [
    {
     "data": {
      "text/plain": [
       "RandomForestClassifier(class_weight={0: 1.2, 1: 0.1}, min_samples_split=10,\n",
       "                       n_jobs=-1, random_state=32)"
      ]
     },
     "execution_count": 16,
     "metadata": {},
     "output_type": "execute_result"
    }
   ],
   "source": [
    "np.random.seed(seed = 101) \n",
    "\n",
    "rfc_sel_feat.fit(X_train_fs,y_train)"
   ]
  },
  {
   "cell_type": "code",
   "execution_count": 17,
   "metadata": {},
   "outputs": [],
   "source": [
    "# rfc_all_feat.fit(X_train_w,y_train)"
   ]
  },
  {
   "cell_type": "code",
   "execution_count": 18,
   "metadata": {},
   "outputs": [],
   "source": [
    "def save_metrics_results(model,x_test,y_test,tag):\n",
    "    # target_names = ['Incorrect', 'Correct']\n",
    "\n",
    "    y_pred = model.predict(x_test)\n",
    "    cr = classification_report(y_true=y_test, y_pred=y_pred,output_dict=True)\n",
    "    mmc = matthews_corrcoef(y_true=y_test, y_pred=y_pred)\n",
    "    # print (cr)\n",
    "    acc = cr[\"accuracy\"]\n",
    "    rec_false = cr[\"False\"][\"recall\"]\n",
    "    rec_true  = cr[\"True\"][\"recall\"]\n",
    "    pres_false = cr[\"False\"][\"precision\"]\n",
    "    pres_true = cr[\"True\"][\"precision\"]\n",
    "    f1_false =  cr[\"False\"][\"f1-score\"]\n",
    "    f1_true =  cr[\"True\"][\"f1-score\"]\n",
    "\n",
    "    results = {\n",
    "        \"Accuracy\": acc,\n",
    "        \"Recall_inc\":rec_false,\n",
    "        \"Recall_cor\":rec_true,\n",
    "        \"Precision_inc\":pres_false ,\n",
    "        \"Precision_cor\":pres_true,\n",
    "        \"F1_inc\":f1_false,\n",
    "        \"F1_cor\":f1_true,\n",
    "        \"MCC\":mmc\n",
    "    }\n",
    "    mean_df = pd.DataFrame(data=results,index=[f\"{tag}\"])\n",
    "    return mean_df\n"
   ]
  },
  {
   "cell_type": "code",
   "execution_count": 22,
   "metadata": {},
   "outputs": [],
   "source": [
    "y_pred= rfc_sel_feat.predict(X_test_u_fs)"
   ]
  },
  {
   "cell_type": "code",
   "execution_count": 23,
   "metadata": {},
   "outputs": [
    {
     "name": "stdout",
     "output_type": "stream",
     "text": [
      "              precision    recall  f1-score   support\n",
      "\n",
      "       False       1.00      0.67      0.80     16618\n",
      "        True       0.28      0.99      0.44      2160\n",
      "\n",
      "    accuracy                           0.71     18778\n",
      "   macro avg       0.64      0.83      0.62     18778\n",
      "weighted avg       0.91      0.71      0.76     18778\n",
      "\n"
     ]
    }
   ],
   "source": [
    "print (classification_report( y_true=y_test_u ,y_pred= y_pred))"
   ]
  },
  {
   "cell_type": "code",
   "execution_count": 24,
   "metadata": {},
   "outputs": [],
   "source": [
    "y_val_u = tenk_load_zdock[\"label_binary\"].astype('bool')"
   ]
  },
  {
   "cell_type": "code",
   "execution_count": 25,
   "metadata": {},
   "outputs": [],
   "source": [
    "y_pred= rfc_sel_feat.predict(X_val_u_fs_zd)"
   ]
  },
  {
   "cell_type": "code",
   "execution_count": 26,
   "metadata": {},
   "outputs": [
    {
     "name": "stdout",
     "output_type": "stream",
     "text": [
      "              precision    recall  f1-score   support\n",
      "\n",
      "       False       1.00      0.39      0.56    150476\n",
      "        True       0.04      0.97      0.08      3958\n",
      "\n",
      "    accuracy                           0.40    154434\n",
      "   macro avg       0.52      0.68      0.32    154434\n",
      "weighted avg       0.97      0.40      0.55    154434\n",
      "\n"
     ]
    }
   ],
   "source": [
    "print (classification_report( y_true=y_val_u,y_pred= y_pred))"
   ]
  },
  {
   "cell_type": "code",
   "execution_count": 27,
   "metadata": {},
   "outputs": [],
   "source": [
    "validation = save_metrics_results(model=rfc_sel_feat,\n",
    "                                  x_test=X_val_u_fs_zd,\n",
    "                                  y_test=y_val_u,\n",
    "                                  tag=\"BM5 update Zdock\")\n"
   ]
  },
  {
   "cell_type": "code",
   "execution_count": 28,
   "metadata": {},
   "outputs": [
    {
     "name": "stdout",
     "output_type": "stream",
     "text": [
      "\\begin{tabular}{lr}\n",
      "\\toprule\n",
      "{} &  BM5 update \\\\\n",
      "\\midrule\n",
      "Accuracy      &    0.401829 \\\\\n",
      "Recall\\_inc    &    0.386759 \\\\\n",
      "Recall\\_cor    &    0.974735 \\\\\n",
      "Precision\\_inc &    0.998285 \\\\\n",
      "Precision\\_cor &    0.040131 \\\\\n",
      "F1\\_inc        &    0.557522 \\\\\n",
      "F1\\_cor        &    0.077088 \\\\\n",
      "MCC           &    0.117843 \\\\\n",
      "\\bottomrule\n",
      "\\end{tabular}\n",
      "\n"
     ]
    }
   ],
   "source": [
    "print ( validation.T.to_latex() ) "
   ]
  },
  {
   "cell_type": "code",
   "execution_count": 29,
   "metadata": {},
   "outputs": [],
   "source": [
    "y_val_u = tenk_load_pydock[\"label_binary\"].astype('bool')"
   ]
  },
  {
   "cell_type": "code",
   "execution_count": 30,
   "metadata": {},
   "outputs": [],
   "source": [
    "y_pred= rfc_sel_feat.predict(X_val_u_fs_py)"
   ]
  },
  {
   "cell_type": "code",
   "execution_count": 31,
   "metadata": {},
   "outputs": [
    {
     "name": "stdout",
     "output_type": "stream",
     "text": [
      "              precision    recall  f1-score   support\n",
      "\n",
      "       False       1.00      1.00      1.00    164765\n",
      "        True       0.03      0.02      0.02       249\n",
      "\n",
      "    accuracy                           1.00    165014\n",
      "   macro avg       0.51      0.51      0.51    165014\n",
      "weighted avg       1.00      1.00      1.00    165014\n",
      "\n"
     ]
    }
   ],
   "source": [
    "print (classification_report( y_true=y_val_u,y_pred= y_pred))"
   ]
  },
  {
   "cell_type": "code",
   "execution_count": 32,
   "metadata": {},
   "outputs": [],
   "source": [
    "validation = save_metrics_results(model=rfc_sel_feat,\n",
    "                                  x_test=X_val_u_fs_py,\n",
    "                                  y_test=y_val_u,\n",
    "                                  tag=\"BM5 update Pydock\")"
   ]
  },
  {
   "cell_type": "code",
   "execution_count": 33,
   "metadata": {},
   "outputs": [
    {
     "name": "stdout",
     "output_type": "stream",
     "text": [
      "\\begin{tabular}{lr}\n",
      "\\toprule\n",
      "{} &  BM5 update \\\\\n",
      "\\midrule\n",
      "Accuracy      &    0.997673 \\\\\n",
      "Recall\\_inc    &    0.999156 \\\\\n",
      "Recall\\_cor    &    0.016064 \\\\\n",
      "Precision\\_inc &    0.998514 \\\\\n",
      "Precision\\_cor &    0.027972 \\\\\n",
      "F1\\_inc        &    0.998835 \\\\\n",
      "F1\\_cor        &    0.020408 \\\\\n",
      "MCC           &    0.020078 \\\\\n",
      "\\bottomrule\n",
      "\\end{tabular}\n",
      "\n"
     ]
    }
   ],
   "source": [
    "print ( validation.T.to_latex() ) "
   ]
  },
  {
   "cell_type": "code",
   "execution_count": 34,
   "metadata": {},
   "outputs": [
    {
     "name": "stdout",
     "output_type": "stream",
     "text": [
      "\\begin{tabular}{lr}\n",
      "\\toprule\n",
      "{} &   Scorers \\\\\n",
      "\\midrule\n",
      "Accuracy      &  0.707317 \\\\\n",
      "Recall\\_inc    &  0.671200 \\\\\n",
      "Recall\\_cor    &  0.985185 \\\\\n",
      "Precision\\_inc &  0.997139 \\\\\n",
      "Precision\\_cor &  0.280295 \\\\\n",
      "F1\\_inc        &  0.802331 \\\\\n",
      "F1\\_cor        &  0.436423 \\\\\n",
      "MCC           &  0.426736 \\\\\n",
      "\\bottomrule\n",
      "\\end{tabular}\n",
      "\n"
     ]
    }
   ],
   "source": [
    "test = save_metrics_results(model=rfc_sel_feat,\n",
    "                            x_test=X_test_u_fs,\n",
    "                            y_test=y_test_u,\n",
    "                            tag=\"Scorers\")\n",
    "\n",
    "print ( test.T.to_latex() ) "
   ]
  },
  {
   "cell_type": "code",
   "execution_count": 35,
   "metadata": {},
   "outputs": [],
   "source": [
    "def get_success_rate(df,sel):\n",
    "    \"\"\"this funtion read a pandas dataframe and that dataframe need the columns\n",
    "    idx , proba_true , and the label_binary\"\"\"\n",
    "    total_size = {\"val\":float(len(PDB_BM5)),\"test\":float(13)}\n",
    "    \n",
    "    tops = [1,10,100,1000]\n",
    "    tcount = [0 for y in range(len(tops))]\n",
    "    names = [ [] for y in range(len(tops))]\n",
    "    ranks = []\n",
    "    for m in df['idx'].unique():\n",
    "#         print (m, end=\" \")\n",
    "        found = False\n",
    "        count = 0\n",
    "        selection = df[df[\"idx\"]==m]\n",
    "        selection= selection.sort_values(by=[\"proba_true\"], ascending=False)\n",
    "#         print (selection)\n",
    "        for x in selection[\"label_binary\"].values:\n",
    "            count +=1\n",
    "            if x != False:\n",
    "#                 print (x,count)\n",
    "                if not found:\n",
    "                    rank = count\n",
    "                    ranks.append(count)\n",
    "                found = True\n",
    "        if found:\n",
    "\n",
    "            for z in range(len(tops)):\n",
    "                if  rank < tops[z]+1:\n",
    "                    tcount[z] += 1\n",
    "                    if m not in names:\n",
    "                        names[z].append(m)\n",
    "\n",
    "    print (tcount)\n",
    "    for y in tcount:\n",
    "#         print ( float(y) )\n",
    "    #     print (y)\n",
    "        print ( round(float(y)/total_size[sel],4)*100 , end=\" \")\n",
    "    print ()\n",
    "    for m in names:\n",
    "        print (m)"
   ]
  },
  {
   "cell_type": "code",
   "execution_count": 36,
   "metadata": {},
   "outputs": [],
   "source": [
    "def convert_pred(model , X_test_val, X_ori ):\n",
    "    df_pred = pd.DataFrame( model.predict_proba(X_test_val) , \n",
    "                                columns=[\"proba_false\",\"proba_true\"])\n",
    "    df_pred = df_pred.set_index( X_ori.index ) \n",
    "    label = X_ori[\"label_binary\"].astype('bool')\n",
    "    df_pred = pd.concat( [ X_ori[\"idx\"],label, df_pred ], axis=1)\n",
    "#     df_pred = df_pred[\"label_binary\"].astype('bool')\n",
    "    \n",
    "    return df_pred"
   ]
  },
  {
   "cell_type": "code",
   "execution_count": 37,
   "metadata": {},
   "outputs": [],
   "source": [
    "df_pred = convert_pred ( rfc_sel_feat, X_test_u_fs, X_test_u  )"
   ]
  },
  {
   "cell_type": "code",
   "execution_count": 38,
   "metadata": {},
   "outputs": [
    {
     "name": "stdout",
     "output_type": "stream",
     "text": [
      "[6, 9, 10, 13]\n",
      "46.150000000000006 69.23 76.92 100.0 \n",
      "['Target29', 'Target37', 'Target40', 'Target41', 'Target47', 'Target50']\n",
      "['Target29', 'Target32', 'Target37', 'Target40', 'Target41', 'Target46', 'Target47', 'Target50', 'Target53']\n",
      "['Target29', 'Target32', 'Target37', 'Target39', 'Target40', 'Target41', 'Target46', 'Target47', 'Target50', 'Target53']\n",
      "['Target29', 'Target30', 'Target32', 'Target35', 'Target37', 'Target39', 'Target40', 'Target41', 'Target46', 'Target47', 'Target50', 'Target53', 'Target54']\n"
     ]
    }
   ],
   "source": [
    "get_success_rate(df_pred,\"test\")\n"
   ]
  },
  {
   "cell_type": "code",
   "execution_count": 39,
   "metadata": {},
   "outputs": [],
   "source": [
    "df_pred = convert_pred ( rfc_sel_feat, X_val_u_fs_py, tenk_load_pydock  )"
   ]
  },
  {
   "cell_type": "code",
   "execution_count": 40,
   "metadata": {},
   "outputs": [
    {
     "name": "stdout",
     "output_type": "stream",
     "text": [
      "[4, 11, 23, 37]\n",
      "7.2700000000000005 20.0 41.82 67.27 \n",
      "['1JTD', '3F1P', '3H11', '4G6M']\n",
      "['1JTD', '3DAW', '3F1P', '3H11', '3K75', '3LVK', '3PC8', '3S9D', '4DN4', '4G6M', '4H03']\n",
      "['1JTD', '1M27', '1RKE', '2A1A', '2VXT', '2W9E', '2YVJ', '3A4S', '3BX7', '3DAW', '3F1P', '3H11', '3K75', '3LVK', '3MXW', 'CP57', '3P57', '3PC8', '3S9D', '4DN4', '4G6M', '4H03', '4JCV']\n",
      "['1JTD', '1M27', '1RKE', '2A1A', '2GTP', '2VXT', '2W9E', '2X9A', '2YVJ', '3A4S', '3AAA', 'BAAD', '3BIW', '3BX7', '3DAW', '3F1P', '3G6D', '3H11', '3K75', '3L5W', '3LVK', '3MXW', 'BP57', 'CP57', '3P57', '3PC8', '3RVW', '3S9D', '3VLB', '4DN4', '4FZA', '4G6J', '4G6M', '4H03', '4IZ7', '4JCV', '4M76']\n"
     ]
    }
   ],
   "source": [
    "get_success_rate(df_pred,\"val\")\n"
   ]
  },
  {
   "cell_type": "code",
   "execution_count": 42,
   "metadata": {},
   "outputs": [],
   "source": [
    "df_pred = convert_pred ( rfc_sel_feat, X_val_u_fs_zd, tenk_load_zdock  )"
   ]
  },
  {
   "cell_type": "code",
   "execution_count": 43,
   "metadata": {},
   "outputs": [
    {
     "name": "stdout",
     "output_type": "stream",
     "text": [
      "[6, 14, 24, 28]\n",
      "10.91 25.45 43.64 50.91 \n",
      "['2A1A', '2YVJ', '3BX7', '3MXW', '3PC8', '3S9D']\n",
      "['1JTD', '2A1A', '2YVJ', '3A4S', '3BX7', '3F1P', '3H11', '3K75', '3LVK', '3MXW', '3PC8', '3S9D', '3VLB', '4DN4']\n",
      "['1EXB', '1JTD', '2A1A', '2VXT', '2W9E', '2YVJ', '3A4S', '3BX7', '3DAW', '3F1P', '3G6D', '3H11', '3HMX', '3K75', '3LVK', '3MXW', 'CP57', '3P57', '3PC8', '3S9D', '3VLB', '4DN4', '4FZA', '4G6M']\n",
      "['1EXB', '1JTD', '2A1A', '2GAF', '2VXT', '2W9E', '2YVJ', '3A4S', '3BX7', '3DAW', '3F1P', '3G6D', '3H11', '3HMX', '3K75', '3L5W', '3LVK', '3MXW', 'CP57', '3P57', '3PC8', '3S9D', '3VLB', '4DN4', '4FZA', '4G6M', '4H03', '4LW4']\n"
     ]
    }
   ],
   "source": [
    "get_success_rate(df_pred,\"val\")"
   ]
  },
  {
   "cell_type": "code",
   "execution_count": 44,
   "metadata": {},
   "outputs": [
    {
     "data": {
      "text/plain": [
       "0.0    99.849104\n",
       "1.0     0.150896\n",
       "Name: label_binary, dtype: float64"
      ]
     },
     "execution_count": 44,
     "metadata": {},
     "output_type": "execute_result"
    }
   ],
   "source": [
    "tenk_load_pydock.label_binary.value_counts()/tenk_load_pydock.shape[0] * 100"
   ]
  },
  {
   "cell_type": "code",
   "execution_count": 45,
   "metadata": {},
   "outputs": [
    {
     "data": {
      "text/plain": [
       "0.0    97.437093\n",
       "1.0     2.562907\n",
       "Name: label_binary, dtype: float64"
      ]
     },
     "execution_count": 45,
     "metadata": {},
     "output_type": "execute_result"
    }
   ],
   "source": [
    "tenk_load_zdock.label_binary.value_counts()/tenk_load_zdock.shape[0] * 100"
   ]
  },
  {
   "cell_type": "code",
   "execution_count": 54,
   "metadata": {},
   "outputs": [],
   "source": [
    "df_CV_10k = pd.read_csv(\"../data/dataframe_metrics_shakel_metrics_crossvalidation.csv\")\n",
    "df_CV_10k = df_CV_10k[['BM5 bal  ',' 10kCV Bal ',' BM5 unb ','10kCV Unb ']]\n",
    "df_CV_10k[\"Metrics\"] = ['Acc', 'R_inc', 'R_cor', 'P_inc','P_cor', 'F1_inc', 'F1_cor', 'MCC']\n",
    "df_CV_10k = df_CV_10k.set_index(\"Metrics\")"
   ]
  },
  {
   "cell_type": "code",
   "execution_count": 66,
   "metadata": {},
   "outputs": [],
   "source": [
    "df_CV_10kT = df_CV_10k.T"
   ]
  },
  {
   "cell_type": "code",
   "execution_count": 85,
   "metadata": {},
   "outputs": [],
   "source": [
    "from math import pi\n",
    "## source code ##\n",
    "## https://python-graph-gallery.com/391-radar-chart-with-several-individuals/\n",
    "def plot_radar(dataframe,title):\n",
    "  # ------- PART 1: Create background\n",
    "  categories = dataframe.T.index.to_list()\n",
    "  # number of variable\n",
    "  # categories=list(df)[1:]\n",
    "  #categories = metrics_only.T[\"group\"].values.tolist() ### original line \n",
    "\n",
    "  N = len(categories)\n",
    "  \n",
    "  # What will be the angle of each axis in the plot? (we divide the plot / number of variable)\n",
    "  angles = [n / float(N) * 2 * pi for n in range(N)]\n",
    "  angles += angles[:1]\n",
    "  \n",
    "  # Initialise the spider plot\n",
    "  ax = plt.subplot(111, polar=True)\n",
    "  \n",
    "  # If you want the first axis to be on top:\n",
    "  ax.set_theta_offset(pi / 2)\n",
    "  ax.set_theta_direction(-1)\n",
    "  \n",
    "  # Draw one axe per variable + add labels labels yet\n",
    "  plt.xticks(angles[:-1], categories)\n",
    "  \n",
    "  # Draw ylabels\n",
    "  ax.set_rlabel_position(0)\n",
    "\n",
    "  plt.yticks([0.6,0.7,0.8,0.9,1.0], [\"0.6\",\"0.7\",\"0.8\",\"0.9\",\"1.0\"], color=\"grey\", size=10)\n",
    "  plt.ylim(0.5,1)\n",
    "  # plt.yticks([0.4,0.5,0.6,0.7,0.8,0.9,1.0], [\"0.4\",\"0.5\",\"0.6\",\"0.7\",\"0.8\",\"0.9\",\"1.0\"], color=\"grey\", size=10)\n",
    "  # plt.ylim(0.4,1)\n",
    "\n",
    "  \n",
    "  #------ PART 2: Add plots\n",
    "  \n",
    "  # Plot each individual = each line of the data\n",
    "  # I don't do a loop, because plotting more than 3 groups makes the chart unreadable\n",
    "\n",
    "  #for i,row in zip(['r','g','b'],[\"SVM\",\"Perceptron\",\"RandomForest\"]):\n",
    "  for i,row in zip(['b','r','g','w'],dataframe.index.to_list()):\n",
    "#   for row in dataframe.index.to_list():\n",
    "      print (row)\n",
    "      values = dataframe.loc[row].values.flatten().tolist()\n",
    "      print (values)\n",
    "      values += values[:1]\n",
    "      ax.plot(angles, values ,linewidth=1, linestyle='solid',label=row)## color=i,linestyle='dotted'\n",
    "      # ax.fill(angles, values,i , alpha=0.1)\n",
    "\n",
    "\n",
    "  \n",
    "  # Add legend\n",
    "  plt.legend(loc='upper right', bbox_to_anchor=(0.1, 0.1))\n",
    "  plt.tight_layout()\n",
    "#   plt.show()\n",
    "  plt.savefig(f\"../figures/{title}.svg\",dpi=300,transparent=True,format=\"svg\")\n",
    "#   plt.savefig(f\"../figures/{title}.eps\",format=\"eps\")"
   ]
  },
  {
   "cell_type": "code",
   "execution_count": 86,
   "metadata": {},
   "outputs": [
    {
     "name": "stdout",
     "output_type": "stream",
     "text": [
      "BM5 bal  \n",
      "[0.832, 0.8668, 0.7972, 0.8104, 0.8569, 0.8377, 0.826, 0.6658]\n",
      " 10kCV Bal \n",
      "[0.9446, 0.9645, 0.9248, 0.9288, 0.9627, 0.9461, 0.943, 0.8904]\n",
      " BM5 unb \n",
      "[0.9677, 0.9683, 0.9554, 0.9973, 0.638, 0.9826, 0.7651, 0.7661]\n",
      "10kCV Unb \n",
      "[0.9619, 0.9633, 0.9387, 0.9963, 0.6006, 0.9795, 0.7319, 0.7335]\n"
     ]
    },
    {
     "data": {
      "image/png": "[encoded data removed]",
      "text/plain": [
       "<Figure size 432x288 with 1 Axes>"
      ]
     },
     "metadata": {},
     "output_type": "display_data"
    }
   ],
   "source": [
    "plot_radar(df_CV_10kT,\"CV_performance\")"
   ]
  },
  {
   "cell_type": "code",
   "execution_count": null,
   "metadata": {},
   "outputs": [],
   "source": []
  }
 ],
 "metadata": {
  "kernelspec": {
   "display_name": "Python 3",
   "language": "python",
   "name": "python3"
  },
  "language_info": {
   "codemirror_mode": {
    "name": "ipython",
    "version": 3
   },
   "file_extension": ".py",
   "mimetype": "text/x-python",
   "name": "python",
   "nbconvert_exporter": "python",
   "pygments_lexer": "ipython3",
   "version": "3.7.9"
  }
 },
 "nbformat": 4,
 "nbformat_minor": 4
}
